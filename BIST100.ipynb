{
 "cells": [
  {
   "cell_type": "code",
   "execution_count": 43,
   "id": "79da0c27",
   "metadata": {},
   "outputs": [],
   "source": [
    "import evds as ev\n",
    "import pandas as pd\n",
    "import matplotlib.pyplot as plt\n",
    "import seaborn as sns\n",
    "from statsmodels.graphics.tsaplots import plot_acf, month_plot\n",
    "from arch.unitroot import ADF, KPSS\n",
    "from sklearn.model_selection import TimeSeriesSplit\n",
    "from statsmodels.tsa.holtwinters import Holt, ExponentialSmoothing\n",
    "from pmdarima import auto_arima\n",
    "from sklearn.metrics import mean_absolute_error, mean_squared_error\n",
    "import numpy as np\n",
    "from statsmodels.tsa.statespace.sarimax import SARIMAX\n",
    "from statsmodels.stats.diagnostic import acorr_ljungbox\n",
    "import warnings\n",
    "warnings.filterwarnings(\"ignore\")"
   ]
  },
  {
   "cell_type": "code",
   "execution_count": 2,
   "id": "964c5735",
   "metadata": {},
   "outputs": [],
   "source": [
    "with open(\"api_key.txt\") as f:\n",
    "    api_key = f.read()"
   ]
  },
  {
   "cell_type": "code",
   "execution_count": 3,
   "id": "edfdf9c6",
   "metadata": {},
   "outputs": [],
   "source": [
    "evds = ev.evdsAPI(api_key)"
   ]
  },
  {
   "cell_type": "code",
   "execution_count": 4,
   "id": "34263975",
   "metadata": {},
   "outputs": [
    {
     "data": {
      "text/html": [
       "<div>\n",
       "<style scoped>\n",
       "    .dataframe tbody tr th:only-of-type {\n",
       "        vertical-align: middle;\n",
       "    }\n",
       "\n",
       "    .dataframe tbody tr th {\n",
       "        vertical-align: top;\n",
       "    }\n",
       "\n",
       "    .dataframe thead th {\n",
       "        text-align: right;\n",
       "    }\n",
       "</style>\n",
       "<table border=\"1\" class=\"dataframe\">\n",
       "  <thead>\n",
       "    <tr style=\"text-align: right;\">\n",
       "      <th></th>\n",
       "      <th>Tarih</th>\n",
       "      <th>TP_DK_USD_S_YTL</th>\n",
       "    </tr>\n",
       "  </thead>\n",
       "  <tbody>\n",
       "    <tr>\n",
       "      <th>0</th>\n",
       "      <td>2010-1</td>\n",
       "      <td>1.473400</td>\n",
       "    </tr>\n",
       "    <tr>\n",
       "      <th>1</th>\n",
       "      <td>2010-2</td>\n",
       "      <td>1.512830</td>\n",
       "    </tr>\n",
       "    <tr>\n",
       "      <th>2</th>\n",
       "      <td>2010-3</td>\n",
       "      <td>1.535678</td>\n",
       "    </tr>\n",
       "    <tr>\n",
       "      <th>3</th>\n",
       "      <td>2010-4</td>\n",
       "      <td>1.495048</td>\n",
       "    </tr>\n",
       "    <tr>\n",
       "      <th>4</th>\n",
       "      <td>2010-5</td>\n",
       "      <td>1.542210</td>\n",
       "    </tr>\n",
       "  </tbody>\n",
       "</table>\n",
       "</div>"
      ],
      "text/plain": [
       "    Tarih  TP_DK_USD_S_YTL\n",
       "0  2010-1         1.473400\n",
       "1  2010-2         1.512830\n",
       "2  2010-3         1.535678\n",
       "3  2010-4         1.495048\n",
       "4  2010-5         1.542210"
      ]
     },
     "execution_count": 4,
     "metadata": {},
     "output_type": "execute_result"
    }
   ],
   "source": [
    "dollar = evds.get_data([\"TP.DK.USD.S.YTL\"], startdate=\"01-01-2010\", enddate=\"01-11-2023\", frequency=5)\n",
    "\n",
    "dollar.head()"
   ]
  },
  {
   "cell_type": "code",
   "execution_count": 5,
   "id": "2e8fe6b8",
   "metadata": {},
   "outputs": [
    {
     "data": {
      "text/html": [
       "<div>\n",
       "<style scoped>\n",
       "    .dataframe tbody tr th:only-of-type {\n",
       "        vertical-align: middle;\n",
       "    }\n",
       "\n",
       "    .dataframe tbody tr th {\n",
       "        vertical-align: top;\n",
       "    }\n",
       "\n",
       "    .dataframe thead th {\n",
       "        text-align: right;\n",
       "    }\n",
       "</style>\n",
       "<table border=\"1\" class=\"dataframe\">\n",
       "  <thead>\n",
       "    <tr style=\"text-align: right;\">\n",
       "      <th></th>\n",
       "      <th>Tarih</th>\n",
       "      <th>TP_MK_F_BILESIK</th>\n",
       "    </tr>\n",
       "  </thead>\n",
       "  <tbody>\n",
       "    <tr>\n",
       "      <th>0</th>\n",
       "      <td>2010-1</td>\n",
       "      <td>540.28</td>\n",
       "    </tr>\n",
       "    <tr>\n",
       "      <th>1</th>\n",
       "      <td>2010-2</td>\n",
       "      <td>493.84</td>\n",
       "    </tr>\n",
       "    <tr>\n",
       "      <th>2</th>\n",
       "      <td>2010-3</td>\n",
       "      <td>569.89</td>\n",
       "    </tr>\n",
       "    <tr>\n",
       "      <th>3</th>\n",
       "      <td>2010-4</td>\n",
       "      <td>587.63</td>\n",
       "    </tr>\n",
       "    <tr>\n",
       "      <th>4</th>\n",
       "      <td>2010-5</td>\n",
       "      <td>540.34</td>\n",
       "    </tr>\n",
       "  </tbody>\n",
       "</table>\n",
       "</div>"
      ],
      "text/plain": [
       "    Tarih  TP_MK_F_BILESIK\n",
       "0  2010-1           540.28\n",
       "1  2010-2           493.84\n",
       "2  2010-3           569.89\n",
       "3  2010-4           587.63\n",
       "4  2010-5           540.34"
      ]
     },
     "execution_count": 5,
     "metadata": {},
     "output_type": "execute_result"
    }
   ],
   "source": [
    "index = evds.get_data([\"TP.MK.F.BILESIK\"], startdate=\"01-01-2010\", enddate=\"01-11-2023\", frequency=5)\n",
    "\n",
    "index.head()"
   ]
  },
  {
   "cell_type": "code",
   "execution_count": 6,
   "id": "f74e14d7",
   "metadata": {},
   "outputs": [
    {
     "data": {
      "text/html": [
       "<div>\n",
       "<style scoped>\n",
       "    .dataframe tbody tr th:only-of-type {\n",
       "        vertical-align: middle;\n",
       "    }\n",
       "\n",
       "    .dataframe tbody tr th {\n",
       "        vertical-align: top;\n",
       "    }\n",
       "\n",
       "    .dataframe thead th {\n",
       "        text-align: right;\n",
       "    }\n",
       "</style>\n",
       "<table border=\"1\" class=\"dataframe\">\n",
       "  <thead>\n",
       "    <tr style=\"text-align: right;\">\n",
       "      <th></th>\n",
       "      <th>Tarih</th>\n",
       "      <th>TP_FG_J0</th>\n",
       "    </tr>\n",
       "  </thead>\n",
       "  <tbody>\n",
       "    <tr>\n",
       "      <th>0</th>\n",
       "      <td>2010-1</td>\n",
       "      <td>174.07</td>\n",
       "    </tr>\n",
       "    <tr>\n",
       "      <th>1</th>\n",
       "      <td>2010-2</td>\n",
       "      <td>176.59</td>\n",
       "    </tr>\n",
       "    <tr>\n",
       "      <th>2</th>\n",
       "      <td>2010-3</td>\n",
       "      <td>177.62</td>\n",
       "    </tr>\n",
       "    <tr>\n",
       "      <th>3</th>\n",
       "      <td>2010-4</td>\n",
       "      <td>178.68</td>\n",
       "    </tr>\n",
       "    <tr>\n",
       "      <th>4</th>\n",
       "      <td>2010-5</td>\n",
       "      <td>178.04</td>\n",
       "    </tr>\n",
       "  </tbody>\n",
       "</table>\n",
       "</div>"
      ],
      "text/plain": [
       "    Tarih  TP_FG_J0\n",
       "0  2010-1    174.07\n",
       "1  2010-2    176.59\n",
       "2  2010-3    177.62\n",
       "3  2010-4    178.68\n",
       "4  2010-5    178.04"
      ]
     },
     "execution_count": 6,
     "metadata": {},
     "output_type": "execute_result"
    }
   ],
   "source": [
    "cpi = evds.get_data([\"TP.FG.J0\"], startdate=\"01-01-2010\", enddate=\"01-11-2023\", frequency=5)\n",
    "\n",
    "cpi.head()"
   ]
  },
  {
   "cell_type": "code",
   "execution_count": 7,
   "id": "2d228b8c",
   "metadata": {},
   "outputs": [],
   "source": [
    "dollar.rename(columns={dollar.columns[1]: \"Dollar/Lira\"}, inplace=True)\n",
    "index.rename(columns={index.columns[1]: \"Bist100\"}, inplace=True)\n",
    "cpi.rename(columns={cpi.columns[1]: \"CPI\"}, inplace=True)"
   ]
  },
  {
   "cell_type": "code",
   "execution_count": 8,
   "id": "7511253e",
   "metadata": {},
   "outputs": [
    {
     "data": {
      "text/plain": [
       "Index(['Tarih', 'Dollar/Lira'], dtype='object')"
      ]
     },
     "execution_count": 8,
     "metadata": {},
     "output_type": "execute_result"
    }
   ],
   "source": [
    "dollar.columns"
   ]
  },
  {
   "cell_type": "code",
   "execution_count": 9,
   "id": "cd2ce39c",
   "metadata": {},
   "outputs": [
    {
     "data": {
      "text/html": [
       "<div>\n",
       "<style scoped>\n",
       "    .dataframe tbody tr th:only-of-type {\n",
       "        vertical-align: middle;\n",
       "    }\n",
       "\n",
       "    .dataframe tbody tr th {\n",
       "        vertical-align: top;\n",
       "    }\n",
       "\n",
       "    .dataframe thead th {\n",
       "        text-align: right;\n",
       "    }\n",
       "</style>\n",
       "<table border=\"1\" class=\"dataframe\">\n",
       "  <thead>\n",
       "    <tr style=\"text-align: right;\">\n",
       "      <th></th>\n",
       "      <th>Dollar/Lira</th>\n",
       "      <th>Bist100</th>\n",
       "      <th>CPI</th>\n",
       "    </tr>\n",
       "  </thead>\n",
       "  <tbody>\n",
       "    <tr>\n",
       "      <th>0</th>\n",
       "      <td>1.473400</td>\n",
       "      <td>540.28</td>\n",
       "      <td>174.07</td>\n",
       "    </tr>\n",
       "    <tr>\n",
       "      <th>1</th>\n",
       "      <td>1.512830</td>\n",
       "      <td>493.84</td>\n",
       "      <td>176.59</td>\n",
       "    </tr>\n",
       "    <tr>\n",
       "      <th>2</th>\n",
       "      <td>1.535678</td>\n",
       "      <td>569.89</td>\n",
       "      <td>177.62</td>\n",
       "    </tr>\n",
       "    <tr>\n",
       "      <th>3</th>\n",
       "      <td>1.495048</td>\n",
       "      <td>587.63</td>\n",
       "      <td>178.68</td>\n",
       "    </tr>\n",
       "    <tr>\n",
       "      <th>4</th>\n",
       "      <td>1.542210</td>\n",
       "      <td>540.34</td>\n",
       "      <td>178.04</td>\n",
       "    </tr>\n",
       "  </tbody>\n",
       "</table>\n",
       "</div>"
      ],
      "text/plain": [
       "   Dollar/Lira  Bist100     CPI\n",
       "0     1.473400   540.28  174.07\n",
       "1     1.512830   493.84  176.59\n",
       "2     1.535678   569.89  177.62\n",
       "3     1.495048   587.63  178.68\n",
       "4     1.542210   540.34  178.04"
      ]
     },
     "execution_count": 9,
     "metadata": {},
     "output_type": "execute_result"
    }
   ],
   "source": [
    "data = pd.DataFrame()\n",
    "data[\"Dollar/Lira\"] = dollar[\"Dollar/Lira\"]\n",
    "data[\"Bist100\"] = index[\"Bist100\"]\n",
    "data[\"CPI\"] = cpi[\"CPI\"]\n",
    "\n",
    "data.head()"
   ]
  },
  {
   "cell_type": "code",
   "execution_count": 10,
   "id": "a0cc33af",
   "metadata": {},
   "outputs": [
    {
     "data": {
      "text/html": [
       "<div>\n",
       "<style scoped>\n",
       "    .dataframe tbody tr th:only-of-type {\n",
       "        vertical-align: middle;\n",
       "    }\n",
       "\n",
       "    .dataframe tbody tr th {\n",
       "        vertical-align: top;\n",
       "    }\n",
       "\n",
       "    .dataframe thead th {\n",
       "        text-align: right;\n",
       "    }\n",
       "</style>\n",
       "<table border=\"1\" class=\"dataframe\">\n",
       "  <thead>\n",
       "    <tr style=\"text-align: right;\">\n",
       "      <th></th>\n",
       "      <th>Dollar/Lira</th>\n",
       "      <th>Bist100</th>\n",
       "      <th>CPI</th>\n",
       "    </tr>\n",
       "    <tr>\n",
       "      <th>Date</th>\n",
       "      <th></th>\n",
       "      <th></th>\n",
       "      <th></th>\n",
       "    </tr>\n",
       "  </thead>\n",
       "  <tbody>\n",
       "    <tr>\n",
       "      <th>2010-01-31</th>\n",
       "      <td>1.473400</td>\n",
       "      <td>540.28</td>\n",
       "      <td>174.07</td>\n",
       "    </tr>\n",
       "    <tr>\n",
       "      <th>2010-02-28</th>\n",
       "      <td>1.512830</td>\n",
       "      <td>493.84</td>\n",
       "      <td>176.59</td>\n",
       "    </tr>\n",
       "    <tr>\n",
       "      <th>2010-03-31</th>\n",
       "      <td>1.535678</td>\n",
       "      <td>569.89</td>\n",
       "      <td>177.62</td>\n",
       "    </tr>\n",
       "    <tr>\n",
       "      <th>2010-04-30</th>\n",
       "      <td>1.495048</td>\n",
       "      <td>587.63</td>\n",
       "      <td>178.68</td>\n",
       "    </tr>\n",
       "    <tr>\n",
       "      <th>2010-05-31</th>\n",
       "      <td>1.542210</td>\n",
       "      <td>540.34</td>\n",
       "      <td>178.04</td>\n",
       "    </tr>\n",
       "  </tbody>\n",
       "</table>\n",
       "</div>"
      ],
      "text/plain": [
       "            Dollar/Lira  Bist100     CPI\n",
       "Date                                    \n",
       "2010-01-31     1.473400   540.28  174.07\n",
       "2010-02-28     1.512830   493.84  176.59\n",
       "2010-03-31     1.535678   569.89  177.62\n",
       "2010-04-30     1.495048   587.63  178.68\n",
       "2010-05-31     1.542210   540.34  178.04"
      ]
     },
     "execution_count": 10,
     "metadata": {},
     "output_type": "execute_result"
    }
   ],
   "source": [
    "data[\"Date\"] = pd.date_range(start=\"01.01.2010\", periods=len(data), freq=\"M\")\n",
    "data.set_index(\"Date\", inplace=True)\n",
    "\n",
    "data.head()"
   ]
  },
  {
   "cell_type": "code",
   "execution_count": 11,
   "id": "2af5560b",
   "metadata": {},
   "outputs": [
    {
     "data": {
      "text/plain": [
       "Dollar/Lira    0\n",
       "Bist100        0\n",
       "CPI            0\n",
       "dtype: int64"
      ]
     },
     "execution_count": 11,
     "metadata": {},
     "output_type": "execute_result"
    }
   ],
   "source": [
    "data.isnull().sum()"
   ]
  },
  {
   "cell_type": "code",
   "execution_count": 12,
   "id": "f3f2be8d",
   "metadata": {},
   "outputs": [
    {
     "data": {
      "text/html": [
       "<div>\n",
       "<style scoped>\n",
       "    .dataframe tbody tr th:only-of-type {\n",
       "        vertical-align: middle;\n",
       "    }\n",
       "\n",
       "    .dataframe tbody tr th {\n",
       "        vertical-align: top;\n",
       "    }\n",
       "\n",
       "    .dataframe thead th {\n",
       "        text-align: right;\n",
       "    }\n",
       "</style>\n",
       "<table border=\"1\" class=\"dataframe\">\n",
       "  <thead>\n",
       "    <tr style=\"text-align: right;\">\n",
       "      <th></th>\n",
       "      <th>Dollar/Lira</th>\n",
       "      <th>Bist100</th>\n",
       "      <th>CPI</th>\n",
       "    </tr>\n",
       "  </thead>\n",
       "  <tbody>\n",
       "    <tr>\n",
       "      <th>Dollar/Lira</th>\n",
       "      <td>1.000000</td>\n",
       "      <td>0.942621</td>\n",
       "      <td>0.994686</td>\n",
       "    </tr>\n",
       "    <tr>\n",
       "      <th>Bist100</th>\n",
       "      <td>0.942621</td>\n",
       "      <td>1.000000</td>\n",
       "      <td>0.960598</td>\n",
       "    </tr>\n",
       "    <tr>\n",
       "      <th>CPI</th>\n",
       "      <td>0.994686</td>\n",
       "      <td>0.960598</td>\n",
       "      <td>1.000000</td>\n",
       "    </tr>\n",
       "  </tbody>\n",
       "</table>\n",
       "</div>"
      ],
      "text/plain": [
       "             Dollar/Lira   Bist100       CPI\n",
       "Dollar/Lira     1.000000  0.942621  0.994686\n",
       "Bist100         0.942621  1.000000  0.960598\n",
       "CPI             0.994686  0.960598  1.000000"
      ]
     },
     "execution_count": 12,
     "metadata": {},
     "output_type": "execute_result"
    }
   ],
   "source": [
    "data.corr()"
   ]
  },
  {
   "cell_type": "code",
   "execution_count": 13,
   "id": "8498d509",
   "metadata": {},
   "outputs": [
    {
     "data": {
      "image/png": "[encoded data removed]",
      "text/plain": [
       "<Figure size 640x480 with 1 Axes>"
      ]
     },
     "metadata": {},
     "output_type": "display_data"
    },
    {
     "data": {
      "image/png": "[encoded data removed]",
      "text/plain": [
       "<Figure size 640x480 with 1 Axes>"
      ]
     },
     "metadata": {},
     "output_type": "display_data"
    }
   ],
   "source": [
    "plt.plot(data[\"Bist100\"])\n",
    "month_plot(data[\"Bist100\"])\n",
    "plt.show()"
   ]
  },
  {
   "cell_type": "code",
   "execution_count": 14,
   "id": "799119a1",
   "metadata": {},
   "outputs": [],
   "source": [
    "# Birim Kök testleri"
   ]
  },
  {
   "cell_type": "code",
   "execution_count": 15,
   "id": "83b08a35",
   "metadata": {
    "scrolled": true
   },
   "outputs": [
    {
     "data": {
      "text/html": [
       "<table class=\"simpletable\">\n",
       "<caption>Augmented Dickey-Fuller Results</caption>\n",
       "<tr>\n",
       "  <td>Test Statistic</td>     <td>2.902</td>\n",
       "</tr>\n",
       "<tr>\n",
       "  <td>P-value</td>            <td>1.000</td>\n",
       "</tr>\n",
       "<tr>\n",
       "  <td>Lags</td>                  <td>14</td>\n",
       "</tr>\n",
       "</table><br/><br/>Trend: Constant<br/>Critical Values: -3.47 (1%), -2.88 (5%), -2.58 (10%)<br/>Null Hypothesis: The process contains a unit root.<br/>Alternative Hypothesis: The process is weakly stationary."
      ],
      "text/plain": [
       "<class 'arch.unitroot.unitroot.ADF'>\n",
       "\"\"\"\n",
       "   Augmented Dickey-Fuller Results   \n",
       "=====================================\n",
       "Test Statistic                  2.902\n",
       "P-value                         1.000\n",
       "Lags                               14\n",
       "-------------------------------------\n",
       "\n",
       "Trend: Constant\n",
       "Critical Values: -3.47 (1%), -2.88 (5%), -2.58 (10%)\n",
       "Null Hypothesis: The process contains a unit root.\n",
       "Alternative Hypothesis: The process is weakly stationary.\n",
       "\"\"\""
      ]
     },
     "execution_count": 15,
     "metadata": {},
     "output_type": "execute_result"
    }
   ],
   "source": [
    "ADF(data[\"Bist100\"])"
   ]
  },
  {
   "cell_type": "code",
   "execution_count": 16,
   "id": "afc63684",
   "metadata": {},
   "outputs": [],
   "source": [
    "diff = data[\"Bist100\"].diff().dropna().diff().dropna()"
   ]
  },
  {
   "cell_type": "code",
   "execution_count": 17,
   "id": "d7171b51",
   "metadata": {},
   "outputs": [
    {
     "data": {
      "text/html": [
       "<table class=\"simpletable\">\n",
       "<caption>Augmented Dickey-Fuller Results</caption>\n",
       "<tr>\n",
       "  <td>Test Statistic</td>    <td>-4.451</td>\n",
       "</tr>\n",
       "<tr>\n",
       "  <td>P-value</td>            <td>0.000</td>\n",
       "</tr>\n",
       "<tr>\n",
       "  <td>Lags</td>                  <td>13</td>\n",
       "</tr>\n",
       "</table><br/><br/>Trend: Constant<br/>Critical Values: -3.47 (1%), -2.88 (5%), -2.58 (10%)<br/>Null Hypothesis: The process contains a unit root.<br/>Alternative Hypothesis: The process is weakly stationary."
      ],
      "text/plain": [
       "<class 'arch.unitroot.unitroot.ADF'>\n",
       "\"\"\"\n",
       "   Augmented Dickey-Fuller Results   \n",
       "=====================================\n",
       "Test Statistic                 -4.451\n",
       "P-value                         0.000\n",
       "Lags                               13\n",
       "-------------------------------------\n",
       "\n",
       "Trend: Constant\n",
       "Critical Values: -3.47 (1%), -2.88 (5%), -2.58 (10%)\n",
       "Null Hypothesis: The process contains a unit root.\n",
       "Alternative Hypothesis: The process is weakly stationary.\n",
       "\"\"\""
      ]
     },
     "execution_count": 17,
     "metadata": {},
     "output_type": "execute_result"
    }
   ],
   "source": [
    "ADF(diff)"
   ]
  },
  {
   "cell_type": "code",
   "execution_count": 18,
   "id": "ac9e74ab",
   "metadata": {},
   "outputs": [
    {
     "name": "stdout",
     "output_type": "stream",
     "text": [
      "Holt Model MAE:  669.7242336998072\n"
     ]
    }
   ],
   "source": [
    "cv = TimeSeriesSplit(n_splits=5)\n",
    "\n",
    "mae = []\n",
    "\n",
    "for train_index, test_index in cv.split(data[\"Bist100\"]):\n",
    "    train, test = data[\"Bist100\"].iloc[train_index], data[\"Bist100\"].iloc[test_index]\n",
    "    model = Holt(train).fit(optimized=True, use_brute=True)\n",
    "    predict = model.forecast(len(test))\n",
    "    mae.append(mean_absolute_error(test, predict))\n",
    "    \n",
    "print(\"Holt Model MAE: \", np.mean(mae))"
   ]
  },
  {
   "cell_type": "code",
   "execution_count": 19,
   "id": "65c9a906",
   "metadata": {},
   "outputs": [
    {
     "name": "stdout",
     "output_type": "stream",
     "text": [
      "Holt Winters Model MAE:  639.4179294709577\n"
     ]
    }
   ],
   "source": [
    "mae = []\n",
    "\n",
    "for train_index, test_index in cv.split(data[\"Bist100\"]):\n",
    "    train, test = data[\"Bist100\"].iloc[train_index], data[\"Bist100\"].iloc[test_index]\n",
    "    model = ExponentialSmoothing(train, trend=\"add\", seasonal=\"add\", \n",
    "                                seasonal_periods=12).fit(optimized=True, use_brute=True)\n",
    "    predict = model.forecast(len(test))\n",
    "    mae.append(mean_absolute_error(test, predict))\n",
    "    \n",
    "print(\"Holt Winters Model MAE: \", np.mean(mae))"
   ]
  },
  {
   "cell_type": "code",
   "execution_count": 20,
   "id": "bca264e8",
   "metadata": {},
   "outputs": [
    {
     "name": "stdout",
     "output_type": "stream",
     "text": [
      "ARIMA Model MAE:  671.0263545121777\n"
     ]
    }
   ],
   "source": [
    "mae = []\n",
    "\n",
    "for train_index, test_index in cv.split(data[\"Bist100\"]):\n",
    "    train, test = data[\"Bist100\"].iloc[train_index], data[\"Bist100\"].iloc[test_index]\n",
    "    model = auto_arima(train, trace=False, seasonal=False)\n",
    "    predict = model.predict(len(test))\n",
    "    mae.append(mean_absolute_error(test, predict))\n",
    "    \n",
    "print(\"ARIMA Model MAE: \", np.mean(mae))"
   ]
  },
  {
   "cell_type": "code",
   "execution_count": 21,
   "id": "97e19959",
   "metadata": {},
   "outputs": [
    {
     "name": "stdout",
     "output_type": "stream",
     "text": [
      "SARIMA Model MAE:  649.897681520352\n"
     ]
    }
   ],
   "source": [
    "mae = []\n",
    "\n",
    "for train_index, test_index in cv.split(data[\"Bist100\"]):\n",
    "    train, test = data[\"Bist100\"].iloc[train_index], data[\"Bist100\"].iloc[test_index]\n",
    "    model = auto_arima(train, trace=False, seasonal=True, m=12)\n",
    "    predict = model.predict(len(test))\n",
    "    mae.append(mean_absolute_error(test, predict))\n",
    "    \n",
    "print(\"SARIMA Model MAE: \", np.mean(mae))"
   ]
  },
  {
   "cell_type": "code",
   "execution_count": 22,
   "id": "a61578c6",
   "metadata": {},
   "outputs": [
    {
     "name": "stdout",
     "output_type": "stream",
     "text": [
      "ARIMAX_1 Model MAE:  849.1531680654168\n"
     ]
    }
   ],
   "source": [
    "mae = []\n",
    "\n",
    "for train_index, test_index in cv.split(data[\"Bist100\"]):\n",
    "    train, test = data[\"Bist100\"].iloc[train_index], data[\"Bist100\"].iloc[test_index]\n",
    "    train_exog, test_exog = data[\"Dollar/Lira\"].iloc[train_index], data[\"Dollar/Lira\"].iloc[test_index]\n",
    "    train_exog = np.array(train_exog).reshape(-1,1)\n",
    "    test_exog = np.array(test_exog).reshape(-1,1)\n",
    "    model = auto_arima(train, trace=False, seasonal=False, X=train_exog)\n",
    "    predict = model.predict(len(test), X=test_exog)\n",
    "    mae.append(mean_absolute_error(test, predict))\n",
    "    \n",
    "print(\"ARIMAX_1 Model MAE: \", np.mean(mae))"
   ]
  },
  {
   "cell_type": "code",
   "execution_count": 23,
   "id": "ef150895",
   "metadata": {},
   "outputs": [
    {
     "name": "stdout",
     "output_type": "stream",
     "text": [
      "ARIMAX_2 Model MAE:  424.0710131141852\n"
     ]
    }
   ],
   "source": [
    "mae = []\n",
    "\n",
    "for train_index, test_index in cv.split(data[\"Bist100\"]):\n",
    "    train, test = data[\"Bist100\"].iloc[train_index], data[\"Bist100\"].iloc[test_index]\n",
    "    train_exog, test_exog = data[\"CPI\"].iloc[train_index], data[\"CPI\"].iloc[test_index]\n",
    "    train_exog = np.array(train_exog).reshape(-1,1)\n",
    "    test_exog = np.array(test_exog).reshape(-1,1)\n",
    "    model = auto_arima(train, trace=False, seasonal=False, X=train_exog)\n",
    "    predict = model.predict(len(test), X=test_exog)\n",
    "    mae.append(mean_absolute_error(test, predict))\n",
    "    \n",
    "print(\"ARIMAX_2 Model MAE: \", np.mean(mae))"
   ]
  },
  {
   "cell_type": "code",
   "execution_count": 24,
   "id": "9629b2e9",
   "metadata": {},
   "outputs": [
    {
     "name": "stdout",
     "output_type": "stream",
     "text": [
      "SARIMAX_1 Model MAE:  815.7944473223291\n"
     ]
    }
   ],
   "source": [
    "mae = []\n",
    "\n",
    "for train_index, test_index in cv.split(data[\"Bist100\"]):\n",
    "    train, test = data[\"Bist100\"].iloc[train_index], data[\"Bist100\"].iloc[test_index]\n",
    "    train_exog, test_exog = data[\"Dollar/Lira\"].iloc[train_index], data[\"Dollar/Lira\"].iloc[test_index]\n",
    "    train_exog = np.array(train_exog).reshape(-1,1)\n",
    "    test_exog = np.array(test_exog).reshape(-1,1)\n",
    "    model = auto_arima(train, trace=False, seasonal=True, m=12, X=train_exog)\n",
    "    predict = model.predict(len(test), X=test_exog)\n",
    "    mae.append(mean_absolute_error(test, predict))\n",
    "    \n",
    "print(\"SARIMAX_1 Model MAE: \", np.mean(mae))"
   ]
  },
  {
   "cell_type": "code",
   "execution_count": 25,
   "id": "4c88a70a",
   "metadata": {},
   "outputs": [
    {
     "name": "stdout",
     "output_type": "stream",
     "text": [
      "SARIMAX_2 Model MAE:  427.7246221618863\n"
     ]
    }
   ],
   "source": [
    "mae = []\n",
    "\n",
    "for train_index, test_index in cv.split(data[\"Bist100\"]):\n",
    "    train, test = data[\"Bist100\"].iloc[train_index], data[\"Bist100\"].iloc[test_index]\n",
    "    train_exog, test_exog = data[\"CPI\"].iloc[train_index], data[\"CPI\"].iloc[test_index]\n",
    "    train_exog = np.array(train_exog).reshape(-1,1)\n",
    "    test_exog = np.array(test_exog).reshape(-1,1)\n",
    "    model = auto_arima(train, trace=False, seasonal=True, m=12, X=train_exog)\n",
    "    predict = model.predict(len(test), X=test_exog)\n",
    "    mae.append(mean_absolute_error(test, predict))\n",
    "    \n",
    "print(\"SARIMAX_2 Model MAE: \", np.mean(mae))"
   ]
  },
  {
   "cell_type": "code",
   "execution_count": 28,
   "id": "fe23046b",
   "metadata": {},
   "outputs": [
    {
     "name": "stdout",
     "output_type": "stream",
     "text": [
      "m 1 için aic 2221.5051800458255\n",
      "m 2 için aic 2203.4276212021896\n",
      "m 3 için aic 2187.719555151325\n",
      "m 4 için aic 2141.1668450355696\n",
      "m 5 için aic 2180.9748964258556\n",
      "m 6 için aic 2221.5051800458255\n",
      "m 7 için aic 2099.9022598839147\n",
      "m 8 için aic 2221.5051800458255\n",
      "m 9 için aic 2153.5359128181412\n",
      "m 10 için aic 2212.189700815539\n",
      "m 11 için aic 2221.5051800458255\n",
      "m 12 için aic 2221.5051800458255\n"
     ]
    }
   ],
   "source": [
    "# Farklı m değerlerinden aic değeri\n",
    "\n",
    "for i in range(1,13):\n",
    "    s_model = auto_arima(data[\"Bist100\"], trace=False, seasonal=True, m=i, X=np.array(data[\"CPI\"]).reshape(-1,1))\n",
    "    print(\"m {} için aic {}\".format(i, s_model.aic()))"
   ]
  },
  {
   "cell_type": "code",
   "execution_count": 30,
   "id": "fa065999",
   "metadata": {},
   "outputs": [
    {
     "name": "stdout",
     "output_type": "stream",
     "text": [
      "m 2 için aic 1793.33843848908\n",
      "m 3 için aic 1796.0290824659758\n",
      "m 4 için aic 1795.2113733750402\n",
      "m 5 için aic 1800.2754246017032\n",
      "m 6 için aic 1799.6136686527377\n",
      "m 7 için aic 1800.4657744787637\n",
      "m 8 için aic 1799.482945071086\n",
      "m 9 için aic 1798.7734217026198\n",
      "m 10 için aic 1804.7718774430784\n",
      "m 11 için aic 1807.2966537369184\n",
      "m 12 için aic 1815.4252040148378\n"
     ]
    }
   ],
   "source": [
    "for i in range(2,13):\n",
    "    s_model = ExponentialSmoothing(data[\"Bist100\"], trend=\"add\", seasonal=\"add\", \n",
    "                               seasonal_periods=i).fit(optimized=True, use_brute=True)\n",
    "    print(\"m {} için aic {}\".format(i, s_model.aic))"
   ]
  },
  {
   "cell_type": "code",
   "execution_count": 31,
   "id": "52083cbd",
   "metadata": {},
   "outputs": [],
   "source": [
    "model_1 = Holt(data[\"Bist100\"]).fit(optimized=True, use_brute=True)\n",
    "\n",
    "model_2 = ExponentialSmoothing(data[\"Bist100\"], trend=\"add\", seasonal=\"add\", \n",
    "                               seasonal_periods=2).fit(optimized=True, use_brute=True)\n",
    "\n",
    "model_3 = auto_arima(data[\"Bist100\"], trace=False, seasonal=False, X=np.array(data[\"CPI\"]).reshape(-1,1))\n",
    "\n",
    "model_4 = auto_arima(data[\"Bist100\"], trace=False, seasonal=True, m=7, X=np.array(data[\"CPI\"]).reshape(-1,1))"
   ]
  },
  {
   "cell_type": "code",
   "execution_count": 32,
   "id": "cde5b0d9",
   "metadata": {},
   "outputs": [
    {
     "name": "stdout",
     "output_type": "stream",
     "text": [
      "1789.8642568094256\n",
      "1793.33843848908\n",
      "2221.5051800458255\n",
      "2099.9022598839147\n"
     ]
    }
   ],
   "source": [
    "print(model_1.aic)\n",
    "print(model_2.aic)\n",
    "print(model_3.aic())\n",
    "print(model_4.aic())"
   ]
  },
  {
   "cell_type": "code",
   "execution_count": 33,
   "id": "1a509fcb",
   "metadata": {},
   "outputs": [
    {
     "name": "stdout",
     "output_type": "stream",
     "text": [
      "                                       SARIMAX Results                                        \n",
      "==============================================================================================\n",
      "Dep. Variable:                                      y   No. Observations:                  167\n",
      "Model:             SARIMAX(2, 0, 3)x(0, 1, [1, 2], 7)   Log Likelihood               -1039.951\n",
      "Date:                                Fri, 29 Mar 2024   AIC                           2099.902\n",
      "Time:                                        10:42:10   BIC                           2130.654\n",
      "Sample:                                    01-31-2010   HQIC                          2112.389\n",
      "                                         - 11-30-2023                                         \n",
      "Covariance Type:                                  opg                                         \n",
      "==============================================================================\n",
      "                 coef    std err          z      P>|z|      [0.025      0.975]\n",
      "------------------------------------------------------------------------------\n",
      "intercept    -16.8735      8.261     -2.042      0.041     -33.065      -0.682\n",
      "x1             5.0138      0.282     17.794      0.000       4.462       5.566\n",
      "ar.L1          1.3905      0.108     12.933      0.000       1.180       1.601\n",
      "ar.L2         -0.7064      0.080     -8.787      0.000      -0.864      -0.549\n",
      "ma.L1         -0.3876      0.124     -3.127      0.002      -0.631      -0.145\n",
      "ma.L2          0.1886      0.068      2.788      0.005       0.056       0.321\n",
      "ma.L3          0.2891      0.078      3.689      0.000       0.136       0.443\n",
      "ma.S.L7       -0.1559      0.097     -1.612      0.107      -0.346       0.034\n",
      "ma.S.L14      -0.7100      0.122     -5.797      0.000      -0.950      -0.470\n",
      "sigma2      2.345e+04   1752.149     13.384      0.000       2e+04    2.69e+04\n",
      "===================================================================================\n",
      "Ljung-Box (L1) (Q):                   0.01   Jarque-Bera (JB):               524.84\n",
      "Prob(Q):                              0.94   Prob(JB):                         0.00\n",
      "Heteroskedasticity (H):              15.56   Skew:                            -0.78\n",
      "Prob(H) (two-sided):                  0.00   Kurtosis:                        11.74\n",
      "===================================================================================\n",
      "\n",
      "Warnings:\n",
      "[1] Covariance matrix calculated using the outer product of gradients (complex-step).\n"
     ]
    }
   ],
   "source": [
    "print(model_4.summary())"
   ]
  },
  {
   "cell_type": "code",
   "execution_count": 39,
   "id": "a30b93dc",
   "metadata": {},
   "outputs": [],
   "source": [
    "model_4 = auto_arima(data[\"Bist100\"], trace=False, seasonal=True, d=1, m=7, X=np.array(data[\"CPI\"]).reshape(-1,1))"
   ]
  },
  {
   "cell_type": "code",
   "execution_count": 40,
   "id": "eb3d2ad8",
   "metadata": {},
   "outputs": [
    {
     "name": "stdout",
     "output_type": "stream",
     "text": [
      "                                     SARIMAX Results                                      \n",
      "==========================================================================================\n",
      "Dep. Variable:                                  y   No. Observations:                  167\n",
      "Model:             SARIMAX(2, 1, 2)x(2, 1, [], 7)   Log Likelihood               -1041.020\n",
      "Date:                            Fri, 29 Mar 2024   AIC                           2098.040\n",
      "Time:                                    10:44:14   BIC                           2122.591\n",
      "Sample:                                01-31-2010   HQIC                          2108.010\n",
      "                                     - 11-30-2023                                         \n",
      "Covariance Type:                              opg                                         \n",
      "==============================================================================\n",
      "                 coef    std err          z      P>|z|      [0.025      0.975]\n",
      "------------------------------------------------------------------------------\n",
      "x1             2.8445      0.465      6.118      0.000       1.933       3.756\n",
      "ar.L1          1.6874      0.027     61.911      0.000       1.634       1.741\n",
      "ar.L2         -0.9937      0.025    -39.932      0.000      -1.042      -0.945\n",
      "ma.L1         -1.6112      0.065    -24.753      0.000      -1.739      -1.484\n",
      "ma.L2          0.8459      0.066     12.879      0.000       0.717       0.975\n",
      "ar.S.L7       -0.1184      0.087     -1.359      0.174      -0.289       0.052\n",
      "ar.S.L14      -0.6105      0.114     -5.360      0.000      -0.834      -0.387\n",
      "sigma2      3.326e+04   3528.608      9.425      0.000    2.63e+04    4.02e+04\n",
      "===================================================================================\n",
      "Ljung-Box (L1) (Q):                   0.03   Jarque-Bera (JB):               300.35\n",
      "Prob(Q):                              0.86   Prob(JB):                         0.00\n",
      "Heteroskedasticity (H):              17.40   Skew:                             0.87\n",
      "Prob(H) (two-sided):                  0.00   Kurtosis:                         9.51\n",
      "===================================================================================\n",
      "\n",
      "Warnings:\n",
      "[1] Covariance matrix calculated using the outer product of gradients (complex-step).\n"
     ]
    }
   ],
   "source": [
    "print(model_4.summary())"
   ]
  },
  {
   "cell_type": "code",
   "execution_count": 42,
   "id": "0b7aac88",
   "metadata": {},
   "outputs": [
    {
     "name": "stdout",
     "output_type": "stream",
     "text": [
      "                                     SARIMAX Results                                     \n",
      "=========================================================================================\n",
      "Dep. Variable:                           Bist100   No. Observations:                  167\n",
      "Model:             SARIMAX(2, 1, 2)x(0, 1, 2, 7)   Log Likelihood               -1037.926\n",
      "Date:                           Fri, 29 Mar 2024   AIC                           2089.853\n",
      "Time:                                   10:49:37   BIC                           2111.335\n",
      "Sample:                               01-31-2010   HQIC                          2098.577\n",
      "                                    - 11-30-2023                                         \n",
      "Covariance Type:                             opg                                         \n",
      "==============================================================================\n",
      "                 coef    std err          z      P>|z|      [0.025      0.975]\n",
      "------------------------------------------------------------------------------\n",
      "CPI            1.6040      0.226      7.089      0.000       1.161       2.047\n",
      "ar.L1          1.6912      0.012    139.665      0.000       1.667       1.715\n",
      "ar.L2         -0.9990      0.006   -169.888      0.000      -1.010      -0.987\n",
      "ma.L1         -1.7713      0.071    -24.959      0.000      -1.910      -1.632\n",
      "ma.L2          0.9825      0.075     13.152      0.000       0.836       1.129\n",
      "ma.S.L14      -0.6846      0.070     -9.739      0.000      -0.822      -0.547\n",
      "sigma2      2.425e+04   2587.711      9.372      0.000    1.92e+04    2.93e+04\n",
      "===================================================================================\n",
      "Ljung-Box (L1) (Q):                   0.83   Jarque-Bera (JB):               126.34\n",
      "Prob(Q):                              0.36   Prob(JB):                         0.00\n",
      "Heteroskedasticity (H):              15.66   Skew:                             0.89\n",
      "Prob(H) (two-sided):                  0.00   Kurtosis:                         6.99\n",
      "===================================================================================\n",
      "\n",
      "Warnings:\n",
      "[1] Covariance matrix calculated using the outer product of gradients (complex-step).\n"
     ]
    }
   ],
   "source": [
    "# model_4 için anlamsız olan ar.S.L7 parametresini devre dışı bırakalım\n",
    "\n",
    "model_4 = SARIMAX(data[\"Bist100\"], exog=data[\"CPI\"], order=(2,1,2), seasonal_order=(0,1,[2],7)).fit()\n",
    "print(model_4.summary())"
   ]
  },
  {
   "cell_type": "code",
   "execution_count": 44,
   "id": "466c837e",
   "metadata": {},
   "outputs": [
    {
     "name": "stdout",
     "output_type": "stream",
     "text": [
      "      lb_stat  lb_pvalue\n",
      "1    0.390199   0.532195\n",
      "2    0.437262   0.803618\n",
      "3    4.195625   0.241100\n",
      "4    4.328450   0.363376\n",
      "5    4.870412   0.431899\n",
      "6    5.412503   0.492094\n",
      "7    6.716978   0.458931\n",
      "8    6.749921   0.563839\n",
      "9   17.697556   0.038849\n",
      "10  21.423421   0.018327\n"
     ]
    }
   ],
   "source": [
    "q = acorr_ljungbox(model_4.resid)\n",
    "print(q)"
   ]
  },
  {
   "cell_type": "code",
   "execution_count": 45,
   "id": "1dc139d1",
   "metadata": {},
   "outputs": [],
   "source": [
    "pred_1 = model_1.predict(start=data.index[0], end=data.index[len(data)-1])\n",
    "pred_2 = model_2.predict(start=data.index[0], end=data.index[len(data)-1])\n",
    "pred_4 = model_4.predict(start=data.index[0], end=data.index[len(data)-1], exog=data[\"CPI\"])"
   ]
  },
  {
   "cell_type": "code",
   "execution_count": 46,
   "id": "438e08ba",
   "metadata": {},
   "outputs": [
    {
     "name": "stdout",
     "output_type": "stream",
     "text": [
      "            Bist100  Holt Model Predict  Holt Winters Predict  SARIMAX Predict\n",
      "Date                                                                          \n",
      "2010-01-31   540.28          493.840000            525.334023       279.209685\n",
      "2010-02-28   493.84          496.891854            553.433130       591.421819\n",
      "2010-03-31   569.89          450.483498            510.186128       491.567240\n",
      "2010-04-30   587.63          534.365165            582.819718       570.279364\n",
      "2010-05-31   540.34          556.202554            608.228229       570.532625\n",
      "...             ...                 ...                   ...              ...\n",
      "2023-07-31  7216.96         5933.222670           5936.728644      6839.681891\n",
      "2023-08-31  7917.93         7479.174891           7475.741649      7635.548280\n",
      "2023-09-30  8334.94         8215.396840           8218.950841      8436.069606\n",
      "2023-10-31  7514.10         8642.456522           8638.931176      7871.410143\n",
      "2023-11-30  7948.60         7748.063080           7751.581975      7328.883753\n",
      "\n",
      "[167 rows x 4 columns]\n"
     ]
    }
   ],
   "source": [
    "df = pd.DataFrame()\n",
    "df[\"Bist100\"] = data[\"Bist100\"]\n",
    "df[\"Holt Model Predict\"] = pred_1\n",
    "df[\"Holt Winters Predict\"] = pred_2\n",
    "df[\"SARIMAX Predict\"] = pred_4\n",
    "\n",
    "print(df)"
   ]
  },
  {
   "cell_type": "code",
   "execution_count": 49,
   "id": "67bd3432",
   "metadata": {},
   "outputs": [
    {
     "data": {
      "image/png": "[encoded data removed]",
      "text/plain": [
       "<Figure size 1200x600 with 1 Axes>"
      ]
     },
     "metadata": {},
     "output_type": "display_data"
    }
   ],
   "source": [
    "plt.figure(figsize=(12,6))\n",
    "plt.plot(df)\n",
    "plt.legend(df.columns)\n",
    "plt.show()"
   ]
  }
 ],
 "metadata": {
  "kernelspec": {
   "display_name": "Python 3 (ipykernel)",
   "language": "python",
   "name": "python3"
  },
  "language_info": {
   "codemirror_mode": {
    "name": "ipython",
    "version": 3
   },
   "file_extension": ".py",
   "mimetype": "text/x-python",
   "name": "python",
   "nbconvert_exporter": "python",
   "pygments_lexer": "ipython3",
   "version": "3.9.17"
  }
 },
 "nbformat": 4,
 "nbformat_minor": 5
}
