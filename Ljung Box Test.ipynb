{
 "cells": [
  {
   "cell_type": "code",
   "execution_count": 1,
   "id": "4dc39da6",
   "metadata": {},
   "outputs": [],
   "source": [
    "import numpy as np\n",
    "import pandas as pd\n",
    "import statsmodels.api as sm"
   ]
  },
  {
   "cell_type": "code",
   "execution_count": 2,
   "id": "171f421e",
   "metadata": {},
   "outputs": [],
   "source": [
    "Yt = [123, 130, 125, 138, 145, 142, 141, 146, 147, 157, 150, 160]"
   ]
  },
  {
   "cell_type": "code",
   "execution_count": 3,
   "id": "f0565185",
   "metadata": {},
   "outputs": [
    {
     "name": "stdout",
     "output_type": "stream",
     "text": [
      "ACF Lag 0 ->\t1.0\n",
      "ACF Lag 1 ->\t0.5719131614654003\n",
      "ACF Lag 2 ->\t0.4626865671641791\n",
      "ACF Lag 3 ->\t0.11058344640434191\n",
      "ACF Lag 4 ->\t0.015603799185888773\n",
      "ACF Lag 5 ->\t-0.03324287652645867\n",
      "ACF Lag 6 ->\t-0.10176390773405705\n",
      "ACF Lag 7 ->\t-0.25033921302578016\n",
      "ACF Lag 8 ->\t-0.32767978290366345\n",
      "ACF Lag 9 ->\t-0.46607869742198105\n",
      "ACF Lag 10 ->\t-0.24966078697421978\n"
     ]
    }
   ],
   "source": [
    "# Autocorrelation\n",
    "\n",
    "ACF = sm.tsa.stattools.acf(Yt)\n",
    "\n",
    "j = 0\n",
    "\n",
    "for i  in ACF:\n",
    "    print(\"ACF Lag {} ->\\t{}\".format(j, i))\n",
    "    j += 1"
   ]
  },
  {
   "cell_type": "code",
   "execution_count": 4,
   "id": "600f9710",
   "metadata": {},
   "outputs": [
    {
     "name": "stdout",
     "output_type": "stream",
     "text": [
      "[ 1.          0.57191316  0.20151406 -0.33451231 -0.02608513  0.14291525]\n"
     ]
    }
   ],
   "source": [
    "# Partial autocorrelation\n",
    "\n",
    "PACF = sm.tsa.stattools.pacf(Yt, method = \"ldb\")\n",
    "print(PACF)"
   ]
  },
  {
   "cell_type": "code",
   "execution_count": 5,
   "id": "0e4a10f4",
   "metadata": {},
   "outputs": [
    {
     "name": "stdout",
     "output_type": "stream",
     "text": [
      "(array([ 1.        ,  0.57191316,  0.46268657,  0.11058345,  0.0156038 ,\n",
      "       -0.03324288]), array([4.99547487, 8.59199971, 8.82026875, 8.8253818 , 8.85190393]), array([0.02541368, 0.01362294, 0.03177846, 0.06561542, 0.11511902]))\n"
     ]
    }
   ],
   "source": [
    "# Ljung Box Test\n",
    "# H0: ACF is statistically significant\n",
    "# H1: Not significant\n",
    "\n",
    "ACF = sm.tsa.stattools.acf(Yt, qstat = True, nlags = 5)\n",
    "print(ACF)\n",
    "\n",
    "# 1st array contains the ACF value of each lag\n",
    "# 2nd array contains the Q-stats value of each log\n",
    "# 3rd array contains the p-value of each log"
   ]
  },
  {
   "cell_type": "code",
   "execution_count": 6,
   "id": "9d20722f",
   "metadata": {
    "scrolled": true
   },
   "outputs": [
    {
     "name": "stdout",
     "output_type": "stream",
     "text": [
      "   Lag    ACF   PACF  Q-Stats   Prob\n",
      "0    1  0.572  0.572    4.995  0.025\n",
      "1    2  0.463  0.202    8.592  0.014\n",
      "2    3  0.111 -0.335    8.820  0.032\n",
      "3    4  0.016 -0.026    8.825  0.066\n",
      "4    5 -0.033  0.143    8.852  0.115\n"
     ]
    }
   ],
   "source": [
    "autocor = {\n",
    "    \"Lag\": range(1,6),\n",
    "    \"ACF\": np.round(ACF[0][1:], 3),\n",
    "    \"PACF\": np.round(PACF[1:], 3),\n",
    "    \"Q-Stats\": np.round(ACF[1], 3),\n",
    "    \"Prob\": np.round(ACF[2], 3)\n",
    "}\n",
    "\n",
    "df = pd.DataFrame(autocor)\n",
    "print(df)"
   ]
  }
 ],
 "metadata": {
  "kernelspec": {
   "display_name": "Python 3 (ipykernel)",
   "language": "python",
   "name": "python3"
  },
  "language_info": {
   "codemirror_mode": {
    "name": "ipython",
    "version": 3
   },
   "file_extension": ".py",
   "mimetype": "text/x-python",
   "name": "python",
   "nbconvert_exporter": "python",
   "pygments_lexer": "ipython3",
   "version": "3.9.17"
  }
 },
 "nbformat": 4,
 "nbformat_minor": 5
}
